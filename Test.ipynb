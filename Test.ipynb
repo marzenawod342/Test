{
 "cells": [
  {
   "cell_type": "markdown",
   "id": "06b738b4-095b-4e27-8bea-13c087e0e6d0",
   "metadata": {},
   "source": [
    "Test script"
   ]
  },
  {
   "cell_type": "code",
   "execution_count": 2,
   "id": "7520271f-24f5-4639-9afc-ce90f0b3287b",
   "metadata": {},
   "outputs": [
    {
     "name": "stdout",
     "output_type": "stream",
     "text": [
      "Hello\n"
     ]
    }
   ],
   "source": [
    "print (\"Hello\")"
   ]
  }
 ],
 "metadata": {
  "kernelspec": {
   "display_name": "Python 3 (ipykernel)",
   "language": "python",
   "name": "python3"
  },
  "language_info": {
   "codemirror_mode": {
    "name": "ipython",
    "version": 3
   },
   "file_extension": ".py",
   "mimetype": "text/x-python",
   "name": "python",
   "nbconvert_exporter": "python",
   "pygments_lexer": "ipython3",
   "version": "3.12.3"
  }
 },
 "nbformat": 4,
 "nbformat_minor": 5
}
